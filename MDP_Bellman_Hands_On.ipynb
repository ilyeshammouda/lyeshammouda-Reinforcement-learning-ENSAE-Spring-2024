{
  "cells": [
    {
      "cell_type": "markdown",
      "metadata": {
        "id": "yfT7kKUONMYS"
      },
      "source": [
        "# Lecture 1 - Markov Decision Process & Bellman's equations"
      ]
    },
    {
      "cell_type": "markdown",
      "metadata": {
        "id": "ltNP3LYtNMYU"
      },
      "source": [
        "**In this notebook you will discover an OpenAI Gym environment**\n",
        "\n",
        "\n",
        "The aims of this notebook are first, to discover the Open AI Gym package often used in Reinforcement Learning and to understand the concept of value functions by computing it for a given policy."
      ]
    },
    {
      "cell_type": "markdown",
      "metadata": {
        "id": "2uy17IFANMYV"
      },
      "source": [
        "## Environment setup"
      ]
    },
    {
      "cell_type": "code",
      "execution_count": 1,
      "metadata": {
        "id": "xLRPTK_yNMYV"
      },
      "outputs": [],
      "source": [
        "# Import the libraries\n",
        "import time\n",
        "import numpy as np\n",
        "import sys\n",
        "from tqdm import tqdm\n",
        "import matplotlib.pyplot as plt\n",
        "from collections import defaultdict, deque\n",
        "import seaborn as sns\n",
        "from sklearn.metrics import mean_squared_error\n",
        "import pandas as pd\n",
        "from IPython.display import clear_output\n",
        "\n",
        "sns.set_style(\"white\")\n",
        "%matplotlib inline"
      ]
    },
    {
      "cell_type": "markdown",
      "metadata": {
        "id": "-emJYX8ENMYY"
      },
      "source": [
        "### Open AI Gym - Explore CliffWalking Environment"
      ]
    },
    {
      "cell_type": "markdown",
      "metadata": {
        "id": "_H3PAUO6NMYZ"
      },
      "source": [
        "If not already installed :"
      ]
    },
    {
      "cell_type": "code",
      "execution_count": 2,
      "metadata": {
        "id": "SNgjEoNqNMYZ",
        "outputId": "1056de78-5183-46ea-c264-8211d00761a8",
        "colab": {
          "base_uri": "https://localhost:8080/"
        }
      },
      "outputs": [
        {
          "output_type": "stream",
          "name": "stdout",
          "text": [
            "Requirement already satisfied: gym in /usr/local/lib/python3.10/dist-packages (0.25.2)\n",
            "Requirement already satisfied: numpy>=1.18.0 in /usr/local/lib/python3.10/dist-packages (from gym) (1.25.2)\n",
            "Requirement already satisfied: cloudpickle>=1.2.0 in /usr/local/lib/python3.10/dist-packages (from gym) (2.2.1)\n",
            "Requirement already satisfied: gym-notices>=0.0.4 in /usr/local/lib/python3.10/dist-packages (from gym) (0.0.8)\n"
          ]
        }
      ],
      "source": [
        "!pip3 install gym"
      ]
    },
    {
      "cell_type": "markdown",
      "metadata": {
        "id": "rXpDEPy4NMYc"
      },
      "source": [
        "Open AI Gym is a python library giving huge number of test environments to work on RL agent’s algorithms with shared interfaces for writing general algorithms and testing them. It was created for removing this problem of lack of standardization in papers along with an aim to create better benchmarks by giving versatile numbers of environment with great ease of setting up. Aim of this tool is to increase reproducibility in the field of AI and provide tools with which everyone can learn about basics of AI.\n",
        "\n",
        "For further informations: https://gym.openai.com/"
      ]
    },
    {
      "cell_type": "code",
      "execution_count": null,
      "metadata": {
        "id": "LgW_to6nNMYc"
      },
      "outputs": [],
      "source": [
        "import gym"
      ]
    },
    {
      "cell_type": "code",
      "execution_count": null,
      "metadata": {
        "id": "xsPiTYY3NMYf"
      },
      "outputs": [],
      "source": [
        "# Making an instance of environment\n",
        "\n",
        "env = gym.make('CliffWalking-v0')"
      ]
    },
    {
      "cell_type": "markdown",
      "metadata": {
        "id": "VoA1vnS3NMYi"
      },
      "source": [
        "**Q1 - Describe the environnement:** To get familiar with gym, try to observe the different elements of the framework. Test the attributes\n",
        "\n",
        "1.   observation_space\n",
        "2.   nS (number of states)\n",
        "3.   action_space\n",
        "4.   nA (number of actions)\n",
        "5.   P (matrice of transitions)\n",
        "\n",
        "And test the methods :\n",
        "\n",
        "1.   Reset (allowing to reset the environment to an initial state)\n",
        "2.   Step (allowing the apply the action to the environment and get the next state and reward)\n",
        "\n",
        "\n",
        "\n",
        "\n"
      ]
    },
    {
      "cell_type": "code",
      "execution_count": null,
      "metadata": {
        "colab": {
          "base_uri": "https://localhost:8080/"
        },
        "id": "e8FeNTeTNMYi",
        "outputId": "af5c853a-fc2b-42fb-db6c-e98980f06a5b"
      },
      "outputs": [
        {
          "output_type": "stream",
          "name": "stdout",
          "text": [
            "State Space: \n",
            " Discrete(48) \n",
            " 48\n",
            "State at start: 36\n"
          ]
        }
      ],
      "source": [
        "# Print the state space\n",
        "print(\"State Space: \\n\", env.observation_space, \"\\n\", env.nS)\n",
        "\n",
        "print(\"State at start: \"+ str(env.reset()))"
      ]
    },
    {
      "cell_type": "code",
      "execution_count": null,
      "metadata": {
        "id": "x7tWXmL9NMYl"
      },
      "outputs": [],
      "source": [
        "# Print the action space\n",
        "# TO DO"
      ]
    },
    {
      "cell_type": "code",
      "execution_count": null,
      "metadata": {
        "scrolled": true,
        "id": "wH6xtNOW5od-"
      },
      "outputs": [],
      "source": [
        "# Print the probability matrix\n",
        "for state in range(env.nS):\n",
        "    for action in range(env.nA):\n",
        "        # TO DO\n"
      ]
    },
    {
      "cell_type": "markdown",
      "metadata": {
        "id": "DE5dr_KCNMYq"
      },
      "source": [
        "When object interacts with environment with an action then *step( )* function returns observation which represents\n",
        "\n",
        "\n",
        "1.   the new state s' (int)\n",
        "2.   the reward (float)\n",
        "3.   Has the agent reached a terminal state (boolean)\n",
        "4.   The probability of ending up in the new state given the previous state and action selected."
      ]
    },
    {
      "cell_type": "code",
      "execution_count": null,
      "metadata": {
        "id": "KKvOtJ0ZNMYo"
      },
      "outputs": [],
      "source": [
        "# Step demonstration\n",
        "for action in range(env.nA):\n",
        "    observation = env.step(action)\n",
        "    print(\"Action played: \" + str(action) + \" and environment updated: \" +str(observation))"
      ]
    },
    {
      "cell_type": "markdown",
      "metadata": {
        "id": "1RDUFRWVNMYt"
      },
      "source": [
        "The agent has 4 potential actions:\n",
        "* UP = 0\n",
        "* RIGHT = 1\n",
        "* DOWN = 2\n",
        "* LEFT = 3"
      ]
    },
    {
      "cell_type": "markdown",
      "metadata": {
        "id": "bwQBgFGhNMYt"
      },
      "source": [
        "Here is the environment we work with :\n",
        "![image.png](data:image/png;base64,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)\n",
        "\n",
        "The agent moves through a $4\\times 12$ gridworld, with states numbered as follows:\n",
        "\n",
        "```\n",
        "[[ 0,  1,  2,  3,  4,  5,  6,  7,  8,  9, 10, 11],\n",
        " [12, 13, 14, 15, 16, 17, 18, 19, 20, 21, 22, 23],\n",
        " [24, 25, 26, 27, 28, 29, 30, 31, 32, 33, 34, 35],\n",
        " [36, 37, 38, 39, 40, 41, 42, 43, 44, 45, 46, 47]]\n",
        "```\n",
        "\n",
        "At the start of any episode, state `36` is the initial state.  State `47` is the only terminal state, and the cliff corresponds to states `37` through `46`."
      ]
    },
    {
      "cell_type": "markdown",
      "metadata": {
        "id": "i7IxdHMHNMYu"
      },
      "source": [
        "### Helper function to plot values in the environnement"
      ]
    },
    {
      "cell_type": "code",
      "execution_count": null,
      "metadata": {
        "id": "YcCCZa0gNMYu"
      },
      "outputs": [],
      "source": [
        "def plot_values(V, title):\n",
        "  '''\n",
        "  Plot the values V (may be the value function, actions, or any other values with the right shape) for all states of the environment on the representation of the environment\n",
        "\n",
        "  Parameters\n",
        "  ----------\n",
        "        V: list\n",
        "            List of the values to plot. Has to be of the right shape (A list of 48 elements).\n",
        "        title: str\n",
        "            The title of the plot\n",
        "  '''\n",
        "\n",
        "  V = np.reshape(V, (4,12))\n",
        "\n",
        "  # plot the state-value function\n",
        "  fig = plt.figure(figsize=(15,5))\n",
        "  ax = fig.add_subplot(111)\n",
        "  im = ax.imshow(V, cmap='cool')\n",
        "  for (j,i),label in np.ndenumerate(V):\n",
        "      ax.text(i, j, np.round(label,3), ha='center', va='center', fontsize=14)\n",
        "  plt.tick_params(bottom='off', left='off', labelbottom='off', labelleft='off')\n",
        "  plt.title(title)\n",
        "  plt.show()"
      ]
    },
    {
      "cell_type": "code",
      "execution_count": null,
      "metadata": {
        "id": "GV6bUJPf5oeC"
      },
      "outputs": [],
      "source": [
        "rewards = np.hstack([-1*np.ones(12),-1*np.ones(12),-1*np.ones(12), -1,-100*np.ones(10), -1])\n",
        "plot_values(rewards, 'Rewards in the Cliff-Walking environnement')\n"
      ]
    },
    {
      "cell_type": "markdown",
      "metadata": {
        "id": "sT7V_fIB5oeC"
      },
      "source": [
        "## Value functions"
      ]
    },
    {
      "cell_type": "markdown",
      "source": [
        "Now that we know what the environment looks like and how it works, we will start evaluating policies. The goal of value functions is to represent the quality of states and actions under a specific policies. We thus need to start by defining a policy."
      ],
      "metadata": {
        "id": "5PcEyFXJbAmC"
      }
    },
    {
      "cell_type": "markdown",
      "metadata": {
        "id": "ZhCfRHhd5oeD"
      },
      "source": [
        "### Evaluate a path"
      ]
    },
    {
      "cell_type": "markdown",
      "metadata": {
        "id": "SiyScmhQNMYw"
      },
      "source": [
        "**Q2 - Deterministic policy :** Define one action for each state of this environment. Make sure the Agent ends up in a Terminal state.  \n",
        "\n",
        "Indication : Return an array with the same lenght as the number of states (Start state is in position 36)."
      ]
    },
    {
      "cell_type": "markdown",
      "metadata": {
        "id": "nvEu5rMpNMYx"
      },
      "source": [
        "Reminder : The agent has 4 potential actions:\n",
        "* UP = 0\n",
        "* RIGHT = 1\n",
        "* DOWN = 2\n",
        "* LEFT = 3"
      ]
    },
    {
      "cell_type": "code",
      "execution_count": null,
      "metadata": {
        "id": "5tmyuGscNMYy"
      },
      "outputs": [],
      "source": [
        "# Define policy\n",
        "# e.g a policy where the agent always goes right\n",
        "path = [[np.ones(12)] for i in range(4)]"
      ]
    },
    {
      "cell_type": "code",
      "execution_count": null,
      "metadata": {
        "colab": {
          "base_uri": "https://localhost:8080/",
          "height": 371
        },
        "id": "rYaDj2L9NMY1",
        "outputId": "3a72fe66-572a-4ec4-94d9-e64d56a9147e",
        "scrolled": false
      },
      "outputs": [
        {
          "output_type": "stream",
          "name": "stdout",
          "text": [
            "\\Actions (UP = 0, RIGHT = 1, DOWN = 2, LEFT = 3, N/A = -1): \n",
            "\n"
          ]
        },
        {
          "output_type": "display_data",
          "data": {
            "image/png": "[encoded data removed]",
            "text/plain": [
              "<Figure size 1080x360 with 1 Axes>"
            ]
          },
          "metadata": {
            "needs_background": "light"
          }
        }
      ],
      "source": [
        "# Print the policy\n",
        "print(\"\\Actions (UP = 0, RIGHT = 1, DOWN = 2, LEFT = 3, N/A = -1): \\n\")\n",
        "plot_values(path, 'Path in the Cliff-Walking environnement')"
      ]
    },
    {
      "cell_type": "code",
      "source": [
        "# np.hstack function can help you quickly set actions for a row\n",
        "\n",
        "np.hstack([np.ones(11)*5,2])"
      ],
      "metadata": {
        "colab": {
          "base_uri": "https://localhost:8080/"
        },
        "id": "BwGHy5KReHj_",
        "outputId": "a858f9ab-93e8-47cb-87d6-e0c6a313b49a"
      },
      "execution_count": null,
      "outputs": [
        {
          "output_type": "execute_result",
          "data": {
            "text/plain": [
              "array([5., 5., 5., 5., 5., 5., 5., 5., 5., 5., 5., 2.])"
            ]
          },
          "metadata": {},
          "execution_count": 3
        }
      ]
    },
    {
      "cell_type": "code",
      "source": [
        "#build your own\n",
        "path = [np.hstack([...]), #12 actions for state 0 to 11\n",
        "        np.hstack([...]), #12 actions for state 12 to 23\n",
        "        np.hstack([...]), #12 actions for state 24 to 35\n",
        "        np.hstack([...])] #12 actions for state 36 to 47"
      ],
      "metadata": {
        "id": "udKMPPV7dqKk"
      },
      "execution_count": null,
      "outputs": []
    },
    {
      "cell_type": "code",
      "source": [
        "# Print the policy\n",
        "plot_values(path, 'Path in the Cliff-Walking environnement')"
      ],
      "metadata": {
        "id": "ym-cS9pbem16"
      },
      "execution_count": null,
      "outputs": []
    },
    {
      "cell_type": "code",
      "source": [
        "# Convert path into policy\n",
        "policy = np.zeros((env.nS,env.nA))\n",
        "for state, action in enumerate(np.hstack(path)):\n",
        "  # transform action for each state into a probability of taking that action in that state\n",
        "  policy[state][action.astype(int)] = 1"
      ],
      "metadata": {
        "id": "sOwdshpu8her"
      },
      "execution_count": null,
      "outputs": []
    },
    {
      "cell_type": "code",
      "execution_count": null,
      "metadata": {
        "id": "4ijG_jP15oeE"
      },
      "outputs": [],
      "source": [
        "# Observe the behaviour of your agent and compute the policy matrix\n",
        "\n",
        "# Reset the environment and observe the initial state\n",
        "state = env.reset()\n",
        "\n",
        "done = False\n",
        "timestep_limit = 100\n",
        "timestep = 0\n",
        "while not done:\n",
        "    timestep += 1\n",
        "    print(\"Agent in State : \"+ str(state))\n",
        "    action = np.argmax(policy[state])\n",
        "    new_state, reward, done, prob = env.step(action)\n",
        "    print(f\"Action played {action} and environment updated: new state : {new_state}, reward: {reward}, terminal state : {done}, probability of ending up in new state given state and action : {prob}\")\n",
        "    state = new_state\n",
        "    if timestep > timestep_limit:\n",
        "      break"
      ]
    },
    {
      "cell_type": "markdown",
      "source": [
        "Now that we have a policy, let's evaluate it !"
      ],
      "metadata": {
        "id": "GNLkluchg9HA"
      }
    },
    {
      "cell_type": "markdown",
      "metadata": {
        "id": "Kr9fgTm85oeF"
      },
      "source": [
        "**Q3 - Value functions:** Complete the functions below to compute the state-action-value function $q$ and state-value function $v$."
      ]
    },
    {
      "cell_type": "code",
      "execution_count": null,
      "metadata": {
        "id": "_RHMdJ585oeF"
      },
      "outputs": [],
      "source": [
        "def state_action_value_function(env, gamma, policy, state, action, q_values_initials):\n",
        "    '''\n",
        "    Return the q table (table of all state action values) for every state and action pairs given a policy.\n",
        "    '''\n",
        "\n",
        "    ## Initialize a q-value matrix\n",
        "    q_values = q_values_initials\n",
        "\n",
        "    ## TODO\n",
        "\n",
        "    return q_values"
      ]
    },
    {
      "cell_type": "code",
      "execution_count": null,
      "metadata": {
        "id": "dqWbmg3g5oeG"
      },
      "outputs": [],
      "source": [
        "def state_value_function(policy, q_value, state):\n",
        "    '''\n",
        "    Return the v table (table of all state action values) for every state and action pairs given a policy.\n",
        "    '''\n",
        "    ## TODO - Use the link between value functions to easely compute the state-values\n",
        "    return v_values"
      ]
    },
    {
      "cell_type": "code",
      "execution_count": null,
      "metadata": {
        "id": "IlT4kMQi5oeG"
      },
      "outputs": [],
      "source": [
        "gamma = 0.99\n",
        "\n",
        "# init q-values\n",
        "q_values = np.zeros((env.nS,env.nA))\n",
        "\n",
        "# init state-values\n",
        "v_values = np.zeros(env.nS)\n"
      ]
    },
    {
      "cell_type": "markdown",
      "source": [
        "Let's update the values over one episode"
      ],
      "metadata": {
        "id": "PZ07V4IHlNJN"
      }
    },
    {
      "cell_type": "code",
      "execution_count": null,
      "metadata": {
        "id": "YWot5BKo5oeG"
      },
      "outputs": [],
      "source": [
        "\n",
        "\n",
        "state = env.reset()\n",
        "done = False\n",
        "\n",
        "while not done:\n",
        "    # pick the action according to the policy\n",
        "    action = np.argmax(policy[state])\n",
        "\n",
        "    # Update the q-values for the current state and action\n",
        "    q_values = state_action_value_function(env, gamma, policy, state, action, q_values)\n",
        "\n",
        "\n",
        "    # Update the state vlue for the current state\n",
        "    v_values[state] = state_value_function(policy, q_values, state)\n",
        "\n",
        "    new_state, reward, done, prob = env.step(action)\n",
        "    print(f\"Action played {action} in state {state} and got reward: {reward}\")\n",
        "    print(f\"Q value of Action {action} in state {state} is {q_values[state][action]}\")\n",
        "\n",
        "    state = new_state"
      ]
    },
    {
      "cell_type": "code",
      "execution_count": null,
      "metadata": {
        "id": "xD_kr-lv5oeH"
      },
      "outputs": [],
      "source": [
        "plot_values(v_values, 'State Values in the Cliff-Walking environnement episode 1')"
      ]
    },
    {
      "cell_type": "markdown",
      "source": [
        "Let's do it again on a new episode"
      ],
      "metadata": {
        "id": "8GVSpjFzlRjO"
      }
    },
    {
      "cell_type": "code",
      "execution_count": null,
      "metadata": {
        "id": "nnT-202E5oeH"
      },
      "outputs": [],
      "source": [
        "state = env.reset()\n",
        "done = False\n",
        "\n",
        "while not done:\n",
        "    # pick the action according to the policy\n",
        "    action = np.argmax(policy[state])\n",
        "\n",
        "    # Update the q-values for the current state and action\n",
        "    q_values = state_action_value_function(env, gamma, policy, state, action, q_values)\n",
        "\n",
        "\n",
        "    # Update the state vlue for the current state\n",
        "    v_values[state] = state_value_function(policy, q_values, state)\n",
        "\n",
        "    new_state, reward, done, prob = env.step(action)\n",
        "    print(f\"Action played {action} in state {state} and got reward: {reward}\")\n",
        "    print(f\"Q value of Action {action} in state {state} is {q_values[state][action]}\")\n",
        "\n",
        "    state = new_state"
      ]
    },
    {
      "cell_type": "code",
      "execution_count": null,
      "metadata": {
        "id": "FLtG16fW5oeH"
      },
      "outputs": [],
      "source": [
        "plot_values(v_values, 'State Values in the Cliff-Walking environnement episode 2')"
      ]
    },
    {
      "cell_type": "code",
      "execution_count": null,
      "metadata": {
        "id": "CZSGgVC_5oeI"
      },
      "outputs": [],
      "source": [
        "n_episodes = 20\n",
        "\n",
        "gamma = 0.99\n",
        "q_values = np.zeros((env.nS,env.nA))\n",
        "v_values = np.zeros(env.nS)\n"
      ]
    },
    {
      "cell_type": "code",
      "execution_count": null,
      "metadata": {
        "scrolled": true,
        "id": "-j_KlCUk5oeI"
      },
      "outputs": [],
      "source": [
        "\n",
        "\n",
        "for i in range(n_episodes):\n",
        "    state = env.reset()\n",
        "    done = False\n",
        "    clear_output(wait=True)\n",
        "    plot_values(v_values, 'State Values in the Cliff-Walking environnement episode ' +str(i))\n",
        "    time.sleep(0.25)\n",
        "    while not done :\n",
        "        action = np.argmax(policy[state])\n",
        "        q_values = state_action_value_function(env, gamma, policy, state, action, q_values)\n",
        "        v_values[state] = state_value_function(policy, q_values, state)\n",
        "        new_state, reward, done, prob = env.step(action)\n",
        "        state = new_state\n",
        ""
      ]
    },
    {
      "cell_type": "markdown",
      "metadata": {
        "id": "UO6bXLPM5oeI"
      },
      "source": [
        "## Stochasticity"
      ]
    },
    {
      "cell_type": "markdown",
      "source": [
        "In this part, we will consider a uniform random policy to follow, ie the agent has the same probability to take each action in each state.\n",
        "\n",
        "Let's observe what happens when select the action at each time step based on exploration or a mix of exploration/exploitation stategy."
      ],
      "metadata": {
        "id": "1AigngYLGHjo"
      }
    },
    {
      "cell_type": "markdown",
      "metadata": {
        "id": "a3-_BYa-5oeJ"
      },
      "source": [
        "### Exploration - Evaluate a random behavior"
      ]
    },
    {
      "cell_type": "markdown",
      "metadata": {
        "id": "bgygz2Du5oeJ"
      },
      "source": [
        "**Q4 - Exploration :** Observe the computation of the state values with randomly selected actions"
      ]
    },
    {
      "cell_type": "code",
      "execution_count": null,
      "metadata": {
        "id": "mLoPwX7_5oeJ"
      },
      "outputs": [],
      "source": [
        "n_episodes = 50\n",
        "\n",
        "gamma = 0.9\n",
        "q_values = np.zeros((env.nS,env.nA))\n",
        "v_values = np.zeros(env.nS)\n",
        "\n",
        "random_policy = 0.25*np.ones((env.nS,env.nA)) # Equal probability for all cations"
      ]
    },
    {
      "cell_type": "code",
      "execution_count": null,
      "metadata": {
        "scrolled": true,
        "id": "ju1bEi8I5oeJ"
      },
      "outputs": [],
      "source": [
        "for i in range(n_episodes):\n",
        "    state = env.reset()\n",
        "    done = False\n",
        "    clear_output(wait=True)\n",
        "    plot_values(v_values, 'State Values in the Cliff-Warlking environnement episode ' +str(i))\n",
        "    time.sleep(0.01)\n",
        "    while not done :\n",
        "        action = # TO DO\n",
        "        q_values = state_action_value_function(env, gamma, random_policy, state, action, q_values)\n",
        "        v_values[state] = state_value_function(random_policy, q_values, state)\n",
        "        new_state, reward, done, prob = env.step(action)\n",
        "        state = new_state\n",
        ""
      ]
    },
    {
      "cell_type": "markdown",
      "metadata": {
        "id": "jTlTsYQ45oev"
      },
      "source": [
        "### Evaluate a stochastic policy"
      ]
    },
    {
      "cell_type": "markdown",
      "metadata": {
        "id": "vP19_zex5oev"
      },
      "source": [
        "**Q5 - Stochastic policy :** Transform your deterministic policy into a stochastic one : It takes the action you've defined in 1-epsilon% of cases and a random action in epsilon% of cases"
      ]
    },
    {
      "cell_type": "code",
      "source": [
        "def stochastize_policy(policy, epsilon):\n",
        "  \"\"\"\n",
        "  update a deterministic policy to create a stochastic policy where you choose\n",
        "  the best action of the initial with probability 1-epsilon and one of the three\n",
        "  other action with probability epsilon\n",
        "  Parameters\n",
        "  ----------\n",
        "    policy : a policy determined by your path\n",
        "    epsilon : float between 0 and 1\n",
        "  \"\"\"\n",
        "  # TODO\n",
        "  return stochastic_policy"
      ],
      "metadata": {
        "id": "baKY-2UluDzw"
      },
      "execution_count": null,
      "outputs": []
    },
    {
      "cell_type": "code",
      "execution_count": null,
      "metadata": {
        "id": "uMXqvYVY5oev"
      },
      "outputs": [],
      "source": [
        "n_episodes = 100\n",
        "\n",
        "gamma = 0.9\n",
        "epsilon = 0.3\n",
        "q_values = np.zeros((env.nS,env.nA))\n",
        "v_values = np.zeros(env.nS)\n",
        "\n",
        "#build your own\n",
        "path = [np.hstack([...]), #12 actions for state 0 to 11\n",
        "        np.hstack([...]), #12 actions for state 12 to 23\n",
        "        np.hstack([...]), #12 actions for state 24 to 35\n",
        "        np.hstack([...])] #12 actions for state 36 to 47\n",
        "\n",
        "# Convert path into policy\n",
        "policy = np.zeros((env.nS,env.nA))\n",
        "for state, action in enumerate(np.hstack(path)):\n",
        "  # transform action for each state into a probability of taking that action in that state\n",
        "  policy[state][action.astype(int)] = 1\n",
        "\n",
        "stochastic_policy = stochastize_policy(policy, epsilon)"
      ]
    },
    {
      "cell_type": "code",
      "source": [
        "for i in range(n_episodes):\n",
        "    state = env.reset()\n",
        "    done = False\n",
        "    clear_output(wait=True)\n",
        "    plot_values(v_values, 'State Values in the Cliff-Walking environnement episode ' +str(i))\n",
        "    time.sleep(0.01)\n",
        "    while not done :\n",
        "        action = np.random.choice(list(range(len(stochastic_policy[state]))),p=stochastic_policy[state])\n",
        "        q_values = state_action_value_function(env, gamma, stochastic_policy, state, action, q_values)\n",
        "        v_values[state] = state_value_function(stochastic_policy, q_values, state)\n",
        "        new_state, reward, done, prob = env.step(action)\n",
        "        state = new_state\n",
        ""
      ],
      "metadata": {
        "id": "OuowdHwWFiVQ"
      },
      "execution_count": null,
      "outputs": []
    },
    {
      "cell_type": "code",
      "source": [],
      "metadata": {
        "id": "NEiPQ0ijwFxo"
      },
      "execution_count": null,
      "outputs": []
    }
  ],
  "metadata": {
    "anaconda-cloud": {},
    "colab": {
      "provenance": [],
      "collapsed_sections": [
        "UO6bXLPM5oeI",
        "a3-_BYa-5oeJ",
        "jTlTsYQ45oev"
      ]
    },
    "kernelspec": {
      "display_name": "Python 3",
      "language": "python",
      "name": "python3"
    },
    "language_info": {
      "codemirror_mode": {
        "name": "ipython",
        "version": 3
      },
      "file_extension": ".py",
      "mimetype": "text/x-python",
      "name": "python",
      "nbconvert_exporter": "python",
      "pygments_lexer": "ipython3",
      "version": "3.7.1"
    },
    "toc": {
      "base_numbering": 1,
      "nav_menu": {},
      "number_sections": true,
      "sideBar": true,
      "skip_h1_title": false,
      "title_cell": "Table of Contents",
      "title_sidebar": "Contents",
      "toc_cell": false,
      "toc_position": {},
      "toc_section_display": true,
      "toc_window_display": false
    }
  },
  "nbformat": 4,
  "nbformat_minor": 0
}